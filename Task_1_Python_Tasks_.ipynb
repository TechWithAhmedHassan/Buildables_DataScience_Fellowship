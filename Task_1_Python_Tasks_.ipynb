{
  "nbformat": 4,
  "nbformat_minor": 0,
  "metadata": {
    "colab": {
      "provenance": [],
      "collapsed_sections": [
        "60MfAdDShlMt"
      ]
    },
    "kernelspec": {
      "name": "python3",
      "display_name": "Python 3"
    },
    "language_info": {
      "name": "python"
    }
  },
  "cells": [
    {
      "cell_type": "markdown",
      "source": [
        "# Indroduction"
      ],
      "metadata": {
        "id": "y5iFvo_0hSXu"
      }
    },
    {
      "cell_type": "markdown",
      "source": [
        "Buildables Data Science Fellowship - Basic Python Exercises<br>\n",
        "Author: Ahmed Hassan<br>\n",
        "Date: 19 June 2025"
      ],
      "metadata": {
        "id": "0wUJSh4chII2"
      }
    },
    {
      "cell_type": "markdown",
      "source": [
        "# Exercise 1: Sum of Two Numbers"
      ],
      "metadata": {
        "id": "HEwdDva9hhN9"
      }
    },
    {
      "cell_type": "code",
      "source": [
        "a = float(input(\"Enter first number: \"))\n",
        "b = float(input(\"Enter second number: \"))\n",
        "print(\"The sum is:\", a + b)"
      ],
      "metadata": {
        "colab": {
          "base_uri": "https://localhost:8080/"
        },
        "id": "fY1gzkmZhq9-",
        "outputId": "715a4402-2d44-444a-be57-83a0dad1f79b"
      },
      "execution_count": 2,
      "outputs": [
        {
          "output_type": "stream",
          "name": "stdout",
          "text": [
            "Enter first number: 2\n",
            "Enter second number: 3\n",
            "The sum is: 5.0\n"
          ]
        }
      ]
    },
    {
      "cell_type": "markdown",
      "source": [
        "# Exercise 2: Area of a Circle"
      ],
      "metadata": {
        "id": "60MfAdDShlMt"
      }
    },
    {
      "cell_type": "code",
      "source": [
        "import math\n",
        "r = float(input(\"\\nEnter the radius of the circle: \"))\n",
        "area = math.pi * r * r\n",
        "print(\"The area of the circle is:\", area)"
      ],
      "metadata": {
        "colab": {
          "base_uri": "https://localhost:8080/"
        },
        "id": "VQBYTipXiU89",
        "outputId": "d954e7ed-efec-47b6-c3d6-250f775bf455"
      },
      "execution_count": 3,
      "outputs": [
        {
          "output_type": "stream",
          "name": "stdout",
          "text": [
            "\n",
            "Enter the radius of the circle: 23\n",
            "The area of the circle is: 1661.9025137490005\n"
          ]
        }
      ]
    },
    {
      "cell_type": "markdown",
      "source": [
        "# Exercise 3: Even or Odd"
      ],
      "metadata": {
        "id": "-HYhrU0uhlJ2"
      }
    },
    {
      "cell_type": "code",
      "source": [
        "a = int(input(\"\\nEnter a number: \"))\n",
        "if a % 2 == 0:\n",
        "    print(a, \"is even\")\n",
        "else:\n",
        "    print(a, \"is odd\")"
      ],
      "metadata": {
        "colab": {
          "base_uri": "https://localhost:8080/"
        },
        "id": "mhqipmx0iZVl",
        "outputId": "63c63f0f-3c97-402e-b313-2fabef7a3846"
      },
      "execution_count": 4,
      "outputs": [
        {
          "output_type": "stream",
          "name": "stdout",
          "text": [
            "\n",
            "Enter a number: 34\n",
            "34 is even\n"
          ]
        }
      ]
    },
    {
      "cell_type": "markdown",
      "source": [
        "# Exercise 4: Simple Calculator"
      ],
      "metadata": {
        "id": "SCcFcyZShlG1"
      }
    },
    {
      "cell_type": "code",
      "source": [
        "a = float(input(\"\\nEnter first number: \"))\n",
        "b = float(input(\"Enter second number: \"))\n",
        "op = input(\"Enter operation (+, -, *, /): \")\n",
        "\n",
        "if op == \"+\":\n",
        "    result = a + b\n",
        "elif op == \"-\":\n",
        "    result = a - b\n",
        "elif op == \"*\":\n",
        "    result = a * b\n",
        "elif op == \"/\":\n",
        "    if b != 0:\n",
        "        result = a / b\n",
        "    else:\n",
        "        result = \"Undefined (division by zero)\"\n",
        "else:\n",
        "    result = \"Invalid operator\"\n",
        "\n",
        "print(\"The result is:\", result)"
      ],
      "metadata": {
        "colab": {
          "base_uri": "https://localhost:8080/"
        },
        "id": "Ho9YxfCWieFV",
        "outputId": "2298e5a2-29a2-4472-94ef-1c5a13e1ec95"
      },
      "execution_count": 5,
      "outputs": [
        {
          "output_type": "stream",
          "name": "stdout",
          "text": [
            "\n",
            "Enter first number: 34\n",
            "Enter second number: 2\n",
            "Enter operation (+, -, *, /): -\n",
            "The result is: 32.0\n"
          ]
        }
      ]
    },
    {
      "cell_type": "markdown",
      "source": [
        "# Exercise 5: Find the Largest Number"
      ],
      "metadata": {
        "id": "R8FiwaC3hlBn"
      }
    },
    {
      "cell_type": "code",
      "source": [
        "a = float(input(\"\\nEnter first number: \"))\n",
        "b = float(input(\"Enter second number: \"))\n",
        "c = float(input(\"Enter third number: \"))\n",
        "largest = max(a, b, c)\n",
        "print(\"The largest number is:\", largest)"
      ],
      "metadata": {
        "colab": {
          "base_uri": "https://localhost:8080/"
        },
        "id": "jzHUr83likod",
        "outputId": "cd69e1e2-2900-4368-88ed-fca31876cdcc"
      },
      "execution_count": 6,
      "outputs": [
        {
          "output_type": "stream",
          "name": "stdout",
          "text": [
            "\n",
            "Enter first number: 2\n",
            "Enter second number: 4\n",
            "Enter third number: 65\n",
            "The largest number is: 65.0\n"
          ]
        }
      ]
    },
    {
      "cell_type": "markdown",
      "source": [
        "# Exercise 6: Reverse a String3\n"
      ],
      "metadata": {
        "id": "VI9DFvrkhk-e"
      }
    },
    {
      "cell_type": "code",
      "source": [
        "a = input(\"\\nEnter a string: \")\n",
        "print(\"The reversed string is:\", a[::-1])"
      ],
      "metadata": {
        "colab": {
          "base_uri": "https://localhost:8080/"
        },
        "id": "MB_vvvo6ipE1",
        "outputId": "f75241eb-6222-429e-b2c3-a9d47f7f2e64"
      },
      "execution_count": 7,
      "outputs": [
        {
          "output_type": "stream",
          "name": "stdout",
          "text": [
            "\n",
            "Enter a string: hassan\n",
            "The reversed string is: nassah\n"
          ]
        }
      ]
    },
    {
      "cell_type": "markdown",
      "source": [
        "# Exercise 7: Count Vowels"
      ],
      "metadata": {
        "id": "G8hu0WAYhk7t"
      }
    },
    {
      "cell_type": "code",
      "source": [
        "a = input(\"\\nEnter a string: \")\n",
        "vowels = \"aeiouAEIOU\"\n",
        "count = sum(1 for ch in a if ch in vowels)\n",
        "print(\"The number of vowels is:\", count)"
      ],
      "metadata": {
        "colab": {
          "base_uri": "https://localhost:8080/"
        },
        "id": "CLCedOZQis4U",
        "outputId": "9b4ddce0-d6cf-48b4-bd97-56d2de3169e9"
      },
      "execution_count": 8,
      "outputs": [
        {
          "output_type": "stream",
          "name": "stdout",
          "text": [
            "\n",
            "Enter a string: Hassan\n",
            "The number of vowels is: 2\n"
          ]
        }
      ]
    },
    {
      "cell_type": "markdown",
      "source": [
        "# Exercise 8: Fibonacci Sequence"
      ],
      "metadata": {
        "id": "S-tmDEiohk4u"
      }
    },
    {
      "cell_type": "code",
      "source": [
        "n = int(input(\"\\nHow many terms? \"))\n",
        "f1, f2 = 0, 1\n",
        "print(\"Fibonacci sequence:\")\n",
        "for i in range(n):\n",
        "    print(f1, end=\" \")\n",
        "    f1, f2 = f2, f1 + f2\n",
        "print()\n"
      ],
      "metadata": {
        "colab": {
          "base_uri": "https://localhost:8080/"
        },
        "id": "tOjClCNxiwTF",
        "outputId": "e8f6c56f-dbe3-4470-c1f9-c4d4acd95b5e"
      },
      "execution_count": 11,
      "outputs": [
        {
          "output_type": "stream",
          "name": "stdout",
          "text": [
            "\n",
            "How many terms? 4\n",
            "Fibonacci sequence:\n",
            "0 1 1 2 \n"
          ]
        }
      ]
    },
    {
      "cell_type": "markdown",
      "source": [
        "# Exercise 9: Check for Palindrome"
      ],
      "metadata": {
        "id": "ahPQ3uk2hk1d"
      }
    },
    {
      "cell_type": "code",
      "source": [
        "a = input(\"\\nEnter a string: \")\n",
        "if a == a[::-1]:\n",
        "    print(a, \"is a palindrome\")\n",
        "else:\n",
        "    print(a, \"is not a palindrome\")"
      ],
      "metadata": {
        "colab": {
          "base_uri": "https://localhost:8080/"
        },
        "id": "qL6iemV3jPet",
        "outputId": "5f498497-c021-4ef1-e051-970657f7dedd"
      },
      "execution_count": 10,
      "outputs": [
        {
          "output_type": "stream",
          "name": "stdout",
          "text": [
            "\n",
            "Enter a string: 34\n",
            "34 is not a palindrome\n"
          ]
        }
      ]
    },
    {
      "cell_type": "code",
      "source": [],
      "metadata": {
        "id": "FFuM1vN7jP1r"
      },
      "execution_count": null,
      "outputs": []
    }
  ]
}