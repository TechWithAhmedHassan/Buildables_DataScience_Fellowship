{
  "nbformat": 4,
  "nbformat_minor": 0,
  "metadata": {
    "colab": {
      "provenance": []
    },
    "kernelspec": {
      "name": "python3",
      "display_name": "Python 3"
    },
    "language_info": {
      "name": "python"
    }
  }, 
  "cells": [
    {
      "cell_type": "code",
      "execution_count": 1,
      "metadata": {
        "colab": {
          "base_uri": "https://localhost:8080/"
        },
        "id": "PJ69mo0ir68P",
        "outputId": "016db9e4-edfa-4e3e-8005-3b96d299d432"
      },
      "outputs": [
        {
          "output_type": "stream",
          "name": "stdout",
          "text": [
            "racecar is a palindrome.\n",
            "Python is not a palindrome.\n"
          ]
        }
      ],
      "source": [
        "# 1. Palindrome Checker (Word)\n",
        "def is_palindrome(word):\n",
        "    if word.lower() == word.lower()[::-1]:\n",
        "        return f\"{word} is a palindrome.\"\n",
        "    else:\n",
        "        return f\"{word} is not a palindrome.\"\n",
        "\n",
        "print(is_palindrome(\"racecar\"))\n",
        "print(is_palindrome(\"Python\"))\n"
      ]
    },
    {
      "cell_type": "code",
      "source": [
        "# 2. FizzBuzz\n",
        "for i in range(1, 101):\n",
        "    if i % 3 == 0 and i % 5 == 0:\n",
        "        print(\"FizzBuzz\")\n",
        "    elif i % 3 == 0:\n",
        "        print(\"Fizz\")\n",
        "    elif i % 5 == 0:\n",
        "        print(\"Buzz\")\n",
        "    else:\n",
        "        print(i)\n"
      ],
      "metadata": {
        "colab": {
          "base_uri": "https://localhost:8080/"
        },
        "id": "qsD16CgJsHfo",
        "outputId": "2eb642f5-571a-4cbc-f3f3-e57061026212"
      },
      "execution_count": 2,
      "outputs": [
        {
          "output_type": "stream",
          "name": "stdout",
          "text": [
            "1\n",
            "2\n",
            "Fizz\n",
            "4\n",
            "Buzz\n",
            "Fizz\n",
            "7\n",
            "8\n",
            "Fizz\n",
            "Buzz\n",
            "11\n",
            "Fizz\n",
            "13\n",
            "14\n",
            "FizzBuzz\n",
            "16\n",
            "17\n",
            "Fizz\n",
            "19\n",
            "Buzz\n",
            "Fizz\n",
            "22\n",
            "23\n",
            "Fizz\n",
            "Buzz\n",
            "26\n",
            "Fizz\n",
            "28\n",
            "29\n",
            "FizzBuzz\n",
            "31\n",
            "32\n",
            "Fizz\n",
            "34\n",
            "Buzz\n",
            "Fizz\n",
            "37\n",
            "38\n",
            "Fizz\n",
            "Buzz\n",
            "41\n",
            "Fizz\n",
            "43\n",
            "44\n",
            "FizzBuzz\n",
            "46\n",
            "47\n",
            "Fizz\n",
            "49\n",
            "Buzz\n",
            "Fizz\n",
            "52\n",
            "53\n",
            "Fizz\n",
            "Buzz\n",
            "56\n",
            "Fizz\n",
            "58\n",
            "59\n",
            "FizzBuzz\n",
            "61\n",
            "62\n",
            "Fizz\n",
            "64\n",
            "Buzz\n",
            "Fizz\n",
            "67\n",
            "68\n",
            "Fizz\n",
            "Buzz\n",
            "71\n",
            "Fizz\n",
            "73\n",
            "74\n",
            "FizzBuzz\n",
            "76\n",
            "77\n",
            "Fizz\n",
            "79\n",
            "Buzz\n",
            "Fizz\n",
            "82\n",
            "83\n",
            "Fizz\n",
            "Buzz\n",
            "86\n",
            "Fizz\n",
            "88\n",
            "89\n",
            "FizzBuzz\n",
            "91\n",
            "92\n",
            "Fizz\n",
            "94\n",
            "Buzz\n",
            "Fizz\n",
            "97\n",
            "98\n",
            "Fizz\n",
            "Buzz\n"
          ]
        }
      ]
    },
    {
      "cell_type": "code",
      "source": [
        "# 3. Nth Fibonacci Number\n",
        "def fibonacci(n):\n",
        "    a, b = 0, 1\n",
        "    for _ in range(n):\n",
        "        a, b = b, a+b\n",
        "    return a\n",
        "\n",
        "n = 10\n",
        "print(f\"The {n}th Fibonacci number is {fibonacci(n)}.\")\n",
        ""
      ],
      "metadata": {
        "colab": {
          "base_uri": "https://localhost:8080/"
        },
        "id": "GstC0h4psKPv",
        "outputId": "e667e111-1df5-40d4-9bfc-7bb53a1f08d4"
      },
      "execution_count": 3,
      "outputs": [
        {
          "output_type": "stream",
          "name": "stdout",
          "text": [
            "The 10th Fibonacci number is 55.\n"
          ]
        }
      ]
    },
    {
      "cell_type": "code",
      "source": [
        "# 4. Prime Number Checker\n",
        "def is_prime(num):\n",
        "    if num < 2:\n",
        "        return False\n",
        "    for i in range(2, int(num**0.5)+1):\n",
        "        if num % i == 0:\n",
        "            return False\n",
        "    return True\n",
        "\n",
        "print(\"7 is a prime number.\" if is_prime(7) else \"7 is not a prime number.\")\n",
        "print(\"10 is a prime number.\" if is_prime(10) else \"10 is not a prime number.\")\n"
      ],
      "metadata": {
        "colab": {
          "base_uri": "https://localhost:8080/"
        },
        "id": "swhTIpifsKKB",
        "outputId": "9fb29614-e301-42bb-bfa4-47d3d4f7b4b8"
      },
      "execution_count": 4,
      "outputs": [
        {
          "output_type": "stream",
          "name": "stdout",
          "text": [
            "7 is a prime number.\n",
            "10 is not a prime number.\n"
          ]
        }
      ]
    },
    {
      "cell_type": "code",
      "source": [
        "# 5. Guess the Number Game\n",
        "import random\n",
        "\n",
        "secret = random.randint(1, 100)\n",
        "guess = None\n",
        "\n",
        "while guess != secret:\n",
        "    guess = int(input(\"Guess a number (1-100): \"))\n",
        "    if guess < secret:\n",
        "        print(\"Too low!\")\n",
        "    elif guess > secret:\n",
        "        print(\"Too high!\")\n",
        "    else:\n",
        "        print(\"Correct!\")\n"
      ],
      "metadata": {
        "colab": {
          "base_uri": "https://localhost:8080/"
        },
        "id": "jKZzJYQIsKG5",
        "outputId": "1c9ba718-3722-46fa-b28e-b16cb4f8aa47"
      },
      "execution_count": 5,
      "outputs": [
        {
          "output_type": "stream",
          "name": "stdout",
          "text": [
            "Guess a number (1-100): 50\n",
            "Too low!\n",
            "Guess a number (1-100): 75\n",
            "Too low!\n",
            "Guess a number (1-100): 87\n",
            "Too high!\n",
            "Guess a number (1-100): 80\n",
            "Too high!\n",
            "Guess a number (1-100): 77\n",
            "Correct!\n"
          ]
        }
      ]
    },
    {
      "cell_type": "code",
      "source": [
        "# 6. List Comprehension (Squares of first 10 integers)\n",
        "squares = [x**2 for x in range(1, 11)]\n",
        "print(squares)\n"
      ],
      "metadata": {
        "colab": {
          "base_uri": "https://localhost:8080/"
        },
        "id": "mi4Pq4fQsKD3",
        "outputId": "42aa4ac2-9b87-44b5-8269-3a4151789cb8"
      },
      "execution_count": 6,
      "outputs": [
        {
          "output_type": "stream",
          "name": "stdout",
          "text": [
            "[1, 4, 9, 16, 25, 36, 49, 64, 81, 100]\n"
          ]
        }
      ]
    },
    {
      "cell_type": "code",
      "source": [
        "# 7. Palindrome Sentences\n",
        "import re\n",
        "\n",
        "def is_sentence_palindrome(sentence):\n",
        "    cleaned = re.sub(r'[^a-z0-9]', '', sentence.lower())\n",
        "    return cleaned == cleaned[::-1]\n",
        "\n",
        "sentence1 = \"A man, a plan, a canal: Panama\"\n",
        "sentence2 = \"Hello, world!\"\n",
        "\n",
        "print(f\"'{sentence1}' -> {'is a palindrome.' if is_sentence_palindrome(sentence1) else 'is not a palindrome.'}\")\n",
        "print(f\"'{sentence2}' -> {'is a palindrome.' if is_sentence_palindrome(sentence2) else 'is not a palindrome.'}\")\n"
      ],
      "metadata": {
        "colab": {
          "base_uri": "https://localhost:8080/"
        },
        "id": "443AG0m4sKA_",
        "outputId": "462a05aa-f572-458e-96b9-639451c10b95"
      },
      "execution_count": 13,
      "outputs": [
        {
          "output_type": "stream",
          "name": "stdout",
          "text": [
            "'A man, a plan, a canal: Panama' -> is a palindrome.\n",
            "'Hello, world!' -> is not a palindrome.\n"
          ]
        }
      ]
    },
    {
      "cell_type": "code",
      "source": [
        "# 8. Anagram Checker\n",
        "def are_anagrams(word1, word2):\n",
        "    return sorted(word1.lower()) == sorted(word2.lower())\n",
        "\n",
        "print(\"are anagrams.\" if are_anagrams(\"listen\", \"silent\") else \"are not anagrams.\")\n",
        "print(\"are anagrams.\" if are_anagrams(\"python\", \"java\") else \"are not anagrams.\")\n"
      ],
      "metadata": {
        "colab": {
          "base_uri": "https://localhost:8080/"
        },
        "id": "h_TpG65HsJ-A",
        "outputId": "ab24e6e4-2ff8-48d3-905c-d065a47e0716"
      },
      "execution_count": 8,
      "outputs": [
        {
          "output_type": "stream",
          "name": "stdout",
          "text": [
            "are anagrams.\n",
            "are not anagrams.\n"
          ]
        }
      ]
    },
    {
      "cell_type": "code",
      "source": [
        "# 9. Reverse Words in a Sentence\n",
        "sentence = \"The quick brown fox jumps over the lazy dog.\"\n",
        "reversed_sentence = \" \".join(sentence.split()[::-1])\n",
        "print(reversed_sentence)\n"
      ],
      "metadata": {
        "colab": {
          "base_uri": "https://localhost:8080/"
        },
        "id": "F47PB_RhsJ7H",
        "outputId": "c7537ca0-1ac2-4155-fc38-b81c1d80fc01"
      },
      "execution_count": 9,
      "outputs": [
        {
          "output_type": "stream",
          "name": "stdout",
          "text": [
            "dog. lazy the over jumps fox brown quick The\n"
          ]
        }
      ]
    },
    {
      "cell_type": "code",
      "source": [
        "# 10. Temperature Converter\n",
        "def convert_temperature(celsius):\n",
        "    fahrenheit = (celsius * 9/5) + 32\n",
        "    kelvin = celsius + 273.15\n",
        "    return f\"{celsius}°C = {fahrenheit}°F = {kelvin}K\"\n",
        "\n",
        "print(convert_temperature(20))\n"
      ],
      "metadata": {
        "colab": {
          "base_uri": "https://localhost:8080/"
        },
        "id": "YxhT3J6DsJ4P",
        "outputId": "91ce8a03-6635-4674-eab0-d048287c68ac"
      },
      "execution_count": 10,
      "outputs": [
        {
          "output_type": "stream",
          "name": "stdout",
          "text": [
            "20°C = 68.0°F = 293.15K\n"
          ]
        }
      ]
    },
    {
      "cell_type": "code",
      "source": [
        "# 11. Custom Iterator - Even Numbers\n",
        "class EvenNumbers:\n",
        "    def __init__(self, limit):\n",
        "        self.limit = limit\n",
        "        self.num = 0\n",
        "\n",
        "    def __iter__(self):\n",
        "        return self\n",
        "\n",
        "    def __next__(self):\n",
        "        if self.num <= self.limit:\n",
        "            current = self.num\n",
        "            self.num += 2\n",
        "            return current\n",
        "        else:\n",
        "            raise StopIteration\n",
        "\n",
        "it = EvenNumbers(10)\n",
        "for num in it:\n",
        "    print(num)\n"
      ],
      "metadata": {
        "colab": {
          "base_uri": "https://localhost:8080/"
        },
        "id": "xJsjZOD8sJ1f",
        "outputId": "05ec96f0-d793-4f8f-8989-a8c9059b0698"
      },
      "execution_count": 11,
      "outputs": [
        {
          "output_type": "stream",
          "name": "stdout",
          "text": [
            "0\n",
            "2\n",
            "4\n",
            "6\n",
            "8\n",
            "10\n"
          ]
        }
      ]
    },
    {
      "cell_type": "code",
      "source": [],
      "metadata": {
        "id": "epqCymaKsJxP"
      },
      "execution_count": null,
      "outputs": []
    }
  ]
}
