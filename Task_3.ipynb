{
  "nbformat": 4,
  "nbformat_minor": 0,
  "metadata": {
    "colab": {
      "provenance": []
    },
    "kernelspec": {
      "name": "python3",
      "display_name": "Python 3"
    },
    "language_info": {
      "name": "python"
    }
  },
  "cells": [
    {
      "cell_type": "code",
      "execution_count": 3,
      "metadata": {
        "colab": {
          "base_uri": "https://localhost:8080/"
        },
        "id": "44U_4Tk8anp9",
        "outputId": "e047af51-ff08-49bb-d391-d830275597cd"
      },
      "outputs": [
        {
          "output_type": "stream",
          "name": "stdout",
          "text": [
            "The factorial of 5 is 120.\n"
          ]
        }
      ],
      "source": [
        "def factorial(n):\n",
        "    if n == 0 or n == 1:\n",
        "        return 1\n",
        "    return n * factorial(n-1)\n",
        "\n",
        "n = 5\n",
        "print(f\"The factorial of {n} is {factorial(n)}.\")\n"
      ]
    },
    {
      "cell_type": "code",
      "source": [
        "class ListNode:\n",
        "    def __init__(self, val=0, next=None):\n",
        "        self.val = val\n",
        "        self.next = next\n",
        "\n",
        "def is_palindrome(head):\n",
        "    vals = []\n",
        "    while head:\n",
        "        vals.append(head.val)\n",
        "        head = head.next\n",
        "    return vals == vals[::-1]\n",
        "\n",
        "# Example\n",
        "head = ListNode(1, ListNode(2, ListNode(3, ListNode(2, ListNode(1)))))\n",
        "print(\"The linked list is a palindrome.\" if is_palindrome(head) else \"The linked list is not a palindrome.\")\n"
      ],
      "metadata": {
        "colab": {
          "base_uri": "https://localhost:8080/"
        },
        "id": "NpZT50tPawFU",
        "outputId": "55267b4b-0e64-47c1-e1d5-f3bef9fa3e2b"
      },
      "execution_count": 4,
      "outputs": [
        {
          "output_type": "stream",
          "name": "stdout",
          "text": [
            "The linked list is a palindrome.\n"
          ]
        }
      ]
    },
    {
      "cell_type": "code",
      "source": [
        "def merge_sorted_arrays(arr1, arr2):\n",
        "    return sorted(arr1 + arr2)\n",
        "\n",
        "print(merge_sorted_arrays([1,3,5],[2,4,6]))\n"
      ],
      "metadata": {
        "colab": {
          "base_uri": "https://localhost:8080/"
        },
        "id": "TngeUEIiawBl",
        "outputId": "6842bc06-ddd6-4c9f-87f9-8628f3ad0c9a"
      },
      "execution_count": 5,
      "outputs": [
        {
          "output_type": "stream",
          "name": "stdout",
          "text": [
            "[1, 2, 3, 4, 5, 6]\n"
          ]
        }
      ]
    },
    {
      "cell_type": "code",
      "source": [
        "class Node:\n",
        "    def __init__(self, key):\n",
        "        self.key = key\n",
        "        self.left = None\n",
        "        self.right = None\n",
        "\n",
        "class BST:\n",
        "    def __init__(self):\n",
        "        self.root = None\n",
        "\n",
        "    def insert(self, key):\n",
        "        self.root = self._insert(self.root, key)\n",
        "\n",
        "    def _insert(self, root, key):\n",
        "        if not root:\n",
        "            return Node(key)\n",
        "        if key < root.key:\n",
        "            root.left = self._insert(root.left, key)\n",
        "        else:\n",
        "            root.right = self._insert(root.right, key)\n",
        "        return root\n",
        "\n",
        "    def search(self, key):\n",
        "        return self._search(self.root, key)\n",
        "\n",
        "    def _search(self, root, key):\n",
        "        if not root or root.key == key:\n",
        "            return root\n",
        "        if key < root.key:\n",
        "            return self._search(root.left, key)\n",
        "        return self._search(root.right, key)\n",
        "\n",
        "    def inorder(self, root=None):\n",
        "        if root is None:\n",
        "            root = self.root\n",
        "        return self._inorder(root)\n",
        "\n",
        "    def _inorder(self, root):\n",
        "        return self._inorder(root.left) + [root.key] + self._inorder(root.right) if root else []\n",
        "\n",
        "bst = BST()\n",
        "for x in [50, 30, 70, 20, 40, 60, 80]:\n",
        "    bst.insert(x)\n",
        "\n",
        "print(\"BST Inorder Traversal:\", bst.inorder())\n",
        "print(\"Search 60:\", \"Found\" if bst.search(60) else \"Not Found\")\n"
      ],
      "metadata": {
        "colab": {
          "base_uri": "https://localhost:8080/"
        },
        "id": "v3KS9Cmqav_B",
        "outputId": "ec1352d7-6ab7-4ea3-c2ae-a687f9c6b2d2"
      },
      "execution_count": 6,
      "outputs": [
        {
          "output_type": "stream",
          "name": "stdout",
          "text": [
            "BST Inorder Traversal: [20, 30, 40, 50, 60, 70, 80]\n",
            "Search 60: Found\n"
          ]
        }
      ]
    },
    {
      "cell_type": "code",
      "source": [
        "def longest_palindrome(s):\n",
        "    res = \"\"\n",
        "    for i in range(len(s)):\n",
        "        # odd length\n",
        "        l, r = i, i\n",
        "        while l >= 0 and r < len(s) and s[l] == s[r]:\n",
        "            if (r-l+1) > len(res):\n",
        "                res = s[l:r+1]\n",
        "            l -= 1\n",
        "            r += 1\n",
        "        # even length\n",
        "        l, r = i, i+1\n",
        "        while l >= 0 and r < len(s) and s[l] == s[r]:\n",
        "            if (r-l+1) > len(res):\n",
        "                res = s[l:r+1]\n",
        "            l -= 1\n",
        "            r += 1\n",
        "    return res\n",
        "\n",
        "print(longest_palindrome(\"babad\"))\n",
        "print(longest_palindrome(\"cbbd\"))\n"
      ],
      "metadata": {
        "colab": {
          "base_uri": "https://localhost:8080/"
        },
        "id": "RY5SNfa8av8n",
        "outputId": "43cc44a2-eed0-4255-dba6-b4cecc52d895"
      },
      "execution_count": 7,
      "outputs": [
        {
          "output_type": "stream",
          "name": "stdout",
          "text": [
            "bab\n",
            "bb\n"
          ]
        }
      ]
    },
    {
      "cell_type": "code",
      "source": [
        "def merge_intervals(intervals):\n",
        "    intervals.sort(key=lambda x: x[0])\n",
        "    merged = [intervals[0]]\n",
        "    for current in intervals[1:]:\n",
        "        prev = merged[-1]\n",
        "        if current[0] <= prev[1]:\n",
        "            merged[-1] = (prev[0], max(prev[1], current[1]))\n",
        "        else:\n",
        "            merged.append(current)\n",
        "    return merged\n",
        "\n",
        "print(merge_intervals([(1,3),(2,6),(8,10),(15,18)]))\n"
      ],
      "metadata": {
        "colab": {
          "base_uri": "https://localhost:8080/"
        },
        "id": "FnumzwnCav6R",
        "outputId": "ac1a46bc-9c22-4469-c8b6-792ae939947f"
      },
      "execution_count": 8,
      "outputs": [
        {
          "output_type": "stream",
          "name": "stdout",
          "text": [
            "[(1, 6), (8, 10), (15, 18)]\n"
          ]
        }
      ]
    },
    {
      "cell_type": "code",
      "source": [
        "def max_subarray(nums):\n",
        "    max_sum = current = nums[0]\n",
        "    for n in nums[1:]:\n",
        "        current = max(n, current+n)\n",
        "        max_sum = max(max_sum, current)\n",
        "    return max_sum\n",
        "\n",
        "print(max_subarray([-2,1,-3,4,-1,2,1,-5,4]))\n"
      ],
      "metadata": {
        "colab": {
          "base_uri": "https://localhost:8080/"
        },
        "id": "vQkZRFYZav3q",
        "outputId": "2932330c-9f3e-42e8-b195-43d144ae8024"
      },
      "execution_count": 9,
      "outputs": [
        {
          "output_type": "stream",
          "name": "stdout",
          "text": [
            "6\n"
          ]
        }
      ]
    },
    {
      "cell_type": "code",
      "source": [
        "def reverse_list(head):\n",
        "    prev, curr = None, head\n",
        "    while curr:\n",
        "        nxt = curr.next\n",
        "        curr.next = prev\n",
        "        prev, curr = curr, nxt\n",
        "    return prev\n",
        "\n",
        "# Example\n",
        "head = ListNode(1, ListNode(2, ListNode(3, ListNode(4, ListNode(5)))))\n",
        "rev = reverse_list(head)\n",
        "while rev:\n",
        "    print(rev.val, end=\" -> \" if rev.next else \"\")\n",
        "    rev = rev.next\n"
      ],
      "metadata": {
        "colab": {
          "base_uri": "https://localhost:8080/"
        },
        "id": "93Zyp9IZav1t",
        "outputId": "f5f84be3-7cb9-4fe2-ca43-d08b5a369202"
      },
      "execution_count": 10,
      "outputs": [
        {
          "output_type": "stream",
          "name": "stdout",
          "text": [
            "5 -> 4 -> 3 -> 2 -> 1"
          ]
        }
      ]
    },
    {
      "cell_type": "code",
      "source": [
        "def min_edit_distance(s1, s2):\n",
        "    m, n = len(s1), len(s2)\n",
        "    dp = [[0]*(n+1) for _ in range(m+1)]\n",
        "    for i in range(m+1):\n",
        "        for j in range(n+1):\n",
        "            if i == 0: dp[i][j] = j\n",
        "            elif j == 0: dp[i][j] = i\n",
        "            elif s1[i-1] == s2[j-1]:\n",
        "                dp[i][j] = dp[i-1][j-1]\n",
        "            else:\n",
        "                dp[i][j] = 1 + min(dp[i-1][j], dp[i][j-1], dp[i-1][j-1])\n",
        "    return dp[m][n]\n",
        "\n",
        "print(min_edit_distance(\"kitten\", \"sitting\"))\n"
      ],
      "metadata": {
        "colab": {
          "base_uri": "https://localhost:8080/"
        },
        "id": "WZb0lCZDavtc",
        "outputId": "cc60c898-cbec-451e-af61-c7099c3c09e9"
      },
      "execution_count": 11,
      "outputs": [
        {
          "output_type": "stream",
          "name": "stdout",
          "text": [
            "3\n"
          ]
        }
      ]
    },
    {
      "cell_type": "code",
      "source": [
        "def exist(board, word):\n",
        "    rows, cols = len(board), len(board[0])\n",
        "\n",
        "    def dfs(r, c, i):\n",
        "        if i == len(word): return True\n",
        "        if r < 0 or c < 0 or r >= rows or c >= cols or board[r][c] != word[i]:\n",
        "            return False\n",
        "        tmp, board[r][c] = board[r][c], \"#\"\n",
        "        res = (dfs(r+1,c,i+1) or dfs(r-1,c,i+1) or dfs(r,c+1,i+1) or dfs(r,c-1,i+1))\n",
        "        board[r][c] = tmp\n",
        "        return res\n",
        "\n",
        "    for r in range(rows):\n",
        "        for c in range(cols):\n",
        "            if dfs(r, c, 0): return True\n",
        "    return False\n",
        "\n",
        "board = [[\"o\",\"a\",\"a\",\"n\"],\n",
        "         [\"e\",\"t\",\"a\",\"e\"],\n",
        "         [\"i\",\"h\",\"k\",\"r\"],\n",
        "         [\"i\",\"f\",\"l\",\"v\"]]\n",
        "\n",
        "words = [\"oath\",\"pea\",\"eat\",\"rain\"]\n",
        "found = [w for w in words if exist([row[:] for row in board], w)]\n",
        "print(\"Words found:\", found)\n"
      ],
      "metadata": {
        "colab": {
          "base_uri": "https://localhost:8080/"
        },
        "id": "ghBz4aqwavqn",
        "outputId": "2f009d9d-5e48-4729-806c-8a09db45619a"
      },
      "execution_count": 12,
      "outputs": [
        {
          "output_type": "stream",
          "name": "stdout",
          "text": [
            "Words found: ['oath', 'eat']\n"
          ]
        }
      ]
    },
    {
      "cell_type": "code",
      "source": [
        "def fibonacci(n):\n",
        "    a, b = 0, 1\n",
        "    for _ in range(n):\n",
        "        yield a\n",
        "        a, b = b, a+b\n",
        "\n",
        "for num in fibonacci(10):\n",
        "    print(num)\n"
      ],
      "metadata": {
        "colab": {
          "base_uri": "https://localhost:8080/"
        },
        "id": "rWH54UxgbJ9V",
        "outputId": "c1225522-4e99-41e8-a1f8-62d7677782ce"
      },
      "execution_count": 13,
      "outputs": [
        {
          "output_type": "stream",
          "name": "stdout",
          "text": [
            "0\n",
            "1\n",
            "1\n",
            "2\n",
            "3\n",
            "5\n",
            "8\n",
            "13\n",
            "21\n",
            "34\n"
          ]
        }
      ]
    },
    {
      "cell_type": "code",
      "source": [],
      "metadata": {
        "id": "LlpI5XWybQKh"
      },
      "execution_count": 13,
      "outputs": []
    }
  ]
}