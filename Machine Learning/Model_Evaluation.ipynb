{
  "nbformat": 4,
  "nbformat_minor": 0,
  "metadata": {
    "colab": {
      "provenance": []
    },
    "kernelspec": {
      "name": "python3",
      "display_name": "Python 3"
    },
    "language_info": {
      "name": "python"
    }
  },
  "cells": [
    {
      "cell_type": "markdown",
      "source": [
        "\n",
        "\n",
        "# 1. Evaluating Logistic Regression with Cross-Validation\n",
        "\n",
        "\n"
      ],
      "metadata": {
        "id": "FePlKDzU5EGa"
      }
    },
    {
      "cell_type": "code",
      "execution_count": 11,
      "metadata": {
        "id": "xYttMAoC46I-"
      },
      "outputs": [],
      "source": [
        "import pandas as pd\n",
        "import numpy as np\n",
        "from sklearn.model_selection import train_test_split, KFold, cross_val_score\n",
        "from sklearn.linear_model import LogisticRegression\n",
        "from sklearn.metrics import accuracy_score\n",
        "import pandas as pd\n",
        "\n",
        "url = \"https://raw.githubusercontent.com/datasciencedojo/datasets/master/titanic.csv\"\n",
        "df = pd.read_csv(url)\n",
        "\n",
        "# Select relevant columns\n",
        "df = df[['Survived','Pclass','Sex','Age','SibSp','Parch','Fare','Embarked']]\n",
        "df.dropna(inplace=True)\n",
        "\n",
        "# Encode categorical variables\n",
        "df['Sex'] = df['Sex'].map({'male':0, 'female':1})\n",
        "df = pd.get_dummies(df, columns=['Embarked'], drop_first=True)\n",
        "\n",
        "X = df.drop('Survived', axis=1)\n",
        "y = df['Survived']\n"
      ]
    },
    {
      "cell_type": "markdown",
      "source": [
        "## Logistic Regression with Train–Test Split"
      ],
      "metadata": {
        "id": "Btoc9Yet5KC5"
      }
    },
    {
      "cell_type": "code",
      "source": [
        "X_train, X_test, y_train, y_test = train_test_split(\n",
        "    X, y, test_size=0.2, random_state=42\n",
        ")\n",
        "\n",
        "log_reg = LogisticRegression(max_iter=1000)\n",
        "log_reg.fit(X_train, y_train)\n",
        "y_pred = log_reg.predict(X_test)\n",
        "\n",
        "acc_split = accuracy_score(y_test, y_pred)\n",
        "print(\"Train–Test Split Accuracy:\", acc_split)\n"
      ],
      "metadata": {
        "colab": {
          "base_uri": "https://localhost:8080/"
        },
        "id": "ZrORqB_T5QWt",
        "outputId": "30eae978-f500-4c0f-982a-9663b5e870f8"
      },
      "execution_count": 12,
      "outputs": [
        {
          "output_type": "stream",
          "name": "stdout",
          "text": [
            "Train–Test Split Accuracy: 0.7972027972027972\n"
          ]
        }
      ]
    },
    {
      "cell_type": "markdown",
      "source": [
        "## Logistic Regression with K-Fold Cross-Validation"
      ],
      "metadata": {
        "id": "fnAp8sMo5W1p"
      }
    },
    {
      "cell_type": "code",
      "source": [
        "kfold = KFold(n_splits=10, shuffle=True, random_state=42)\n",
        "cv_scores = cross_val_score(log_reg, X, y, cv=kfold, scoring='accuracy')\n",
        "\n",
        "print(\"Cross-Validation Scores:\", cv_scores)\n",
        "print(\"Average CV Accuracy:\", cv_scores.mean())"
      ],
      "metadata": {
        "colab": {
          "base_uri": "https://localhost:8080/"
        },
        "id": "3sz02T215Xtt",
        "outputId": "8dd63b9f-d508-4720-ea88-5d48e98fa9e3"
      },
      "execution_count": 13,
      "outputs": [
        {
          "output_type": "stream",
          "name": "stdout",
          "text": [
            "Cross-Validation Scores: [0.81944444 0.80555556 0.74647887 0.74647887 0.74647887 0.85915493\n",
            " 0.88732394 0.83098592 0.71830986 0.83098592]\n",
            "Average CV Accuracy: 0.7991197183098592\n"
          ]
        }
      ]
    },
    {
      "cell_type": "markdown",
      "source": [
        "## Insights"
      ],
      "metadata": {
        "id": "laTzDRHF7YbJ"
      }
    },
    {
      "cell_type": "markdown",
      "source": [
        "If split accuracy is higher than CV average, the model might be overfitting to that particular split."
      ],
      "metadata": {
        "id": "V5x4L6lL7f5K"
      }
    },
    {
      "cell_type": "markdown",
      "source": [
        "# 2. Analyzing Overfitting and Underfitting in Decision Trees"
      ],
      "metadata": {
        "id": "OaSJ1Lv29bpC"
      }
    },
    {
      "cell_type": "code",
      "source": [
        "# 🚢 Titanic - Decision Tree Depth Analysis (Single Code)\n",
        "\n",
        "import pandas as pd\n",
        "import numpy as np\n",
        "import matplotlib.pyplot as plt\n",
        "from sklearn.model_selection import train_test_split\n",
        "from sklearn.tree import DecisionTreeClassifier\n",
        "from sklearn.metrics import accuracy_score\n",
        "\n",
        "\n",
        "url = \"https://raw.githubusercontent.com/datasciencedojo/datasets/master/titanic.csv\"\n",
        "df = pd.read_csv(url)\n",
        "\n",
        "df = df[['Survived','Pclass','Sex','Age','SibSp','Parch','Fare','Embarked']]\n",
        "df.dropna(inplace=True)\n",
        "df['Sex'] = df['Sex'].map({'male':0, 'female':1})\n",
        "df = pd.get_dummies(df, columns=['Embarked'], drop_first=True)\n",
        "\n",
        "X = df.drop('Survived', axis=1)\n",
        "y = df['Survived']\n",
        "\n",
        "X_train, X_val, y_train, y_val = train_test_split(X, y, test_size=0.2, random_state=42)\n",
        "\n",
        "# 2. Train decision trees with different depths\n",
        "train_accuracies, val_accuracies = [], []\n",
        "depths = range(1, 21)\n",
        "\n",
        "for d in depths:\n",
        "    tree = DecisionTreeClassifier(max_depth=d, random_state=42)\n",
        "    tree.fit(X_train, y_train)\n",
        "    train_accuracies.append(accuracy_score(y_train, tree.predict(X_train)))\n",
        "    val_accuracies.append(accuracy_score(y_val, tree.predict(X_val)))\n",
        "\n",
        "# 3. Plot training vs validation accuracy\n",
        "plt.figure(figsize=(8,5))\n",
        "plt.plot(depths, train_accuracies, label=\"Training Accuracy\", marker='o')\n",
        "plt.plot(depths, val_accuracies, label=\"Validation Accuracy\", marker='o')\n",
        "plt.xlabel(\"Tree Depth\")\n",
        "plt.ylabel(\"Accuracy\")\n",
        "plt.title(\"Decision Tree Depth vs Accuracy (Titanic Dataset)\")\n",
        "plt.legend()\n",
        "plt.show()\n",
        "\n"
      ],
      "metadata": {
        "colab": {
          "base_uri": "https://localhost:8080/",
          "height": 487
        },
        "id": "oe2KN6Dl9VzL",
        "outputId": "1314d45f-ba99-4014-d5af-d56582db2730"
      },
      "execution_count": 15,
      "outputs": [
        {
          "output_type": "display_data",
          "data": {
            "text/plain": [
              "<Figure size 800x500 with 1 Axes>"
            ],
            "image/png": "[encoded data removed]"
          },
          "metadata": {}
        }
      ]
    },
    {
      "cell_type": "markdown",
      "source": [
        "## Insights\n"
      ],
      "metadata": {
        "id": "bPVZYGQjEJhE"
      }
    },
    {
      "cell_type": "markdown",
      "source": [
        "Shallow trees underfit (low accuracy), deep trees overfit (train high, val low), and optimal depth balances both with high, close accuracies."
      ],
      "metadata": {
        "id": "a3fJBNg2EMv7"
      }
    },
    {
      "cell_type": "code",
      "source": [],
      "metadata": {
        "id": "DUwxFx9T9aBz"
      },
      "execution_count": null,
      "outputs": []
    },
    {
      "cell_type": "markdown",
      "source": [
        "# 3. Calculating Precision, Recall, and F1-Score for Logistic Regression\n"
      ],
      "metadata": {
        "id": "qWPp2zRpEPA0"
      }
    },
    {
      "cell_type": "code",
      "source": [
        "from sklearn.linear_model import LogisticRegression\n",
        "from sklearn.metrics import accuracy_score, precision_score, recall_score, f1_score\n",
        "from sklearn.model_selection import train_test_split\n",
        "\n",
        "\n",
        "# Example preprocessing (assuming df is cleaned)\n",
        "X = df.drop(\"Survived\", axis=1)\n",
        "y = df[\"Survived\"]\n",
        "\n",
        "X_train, X_test, y_train, y_test = train_test_split(X, y, test_size=0.2, random_state=42)\n",
        "\n",
        "model = LogisticRegression(max_iter=1000)\n",
        "model.fit(X_train, y_train)\n",
        "\n",
        "y_pred = model.predict(X_test)\n",
        "\n",
        "# Metrics\n",
        "accuracy = accuracy_score(y_test, y_pred)\n",
        "precision = precision_score(y_test, y_pred)\n",
        "recall = recall_score(y_test, y_pred)\n",
        "f1 = f1_score(y_test, y_pred)\n",
        "\n",
        "print(\"Accuracy:\", accuracy)\n",
        "print(\"Precision:\", precision)\n",
        "print(\"Recall:\", recall)\n",
        "print(\"F1-Score:\", f1)\n"
      ],
      "metadata": {
        "colab": {
          "base_uri": "https://localhost:8080/"
        },
        "id": "6DdgLdsJESR-",
        "outputId": "eac57d94-bc78-4f80-d8af-eb6d7d3330d3"
      },
      "execution_count": 16,
      "outputs": [
        {
          "output_type": "stream",
          "name": "stdout",
          "text": [
            "Accuracy: 0.7972027972027972\n",
            "Precision: 0.8541666666666666\n",
            "Recall: 0.6507936507936508\n",
            "F1-Score: 0.7387387387387387\n"
          ]
        }
      ]
    },
    {
      "cell_type": "markdown",
      "source": [
        "## Insights"
      ],
      "metadata": {
        "id": "pSBHmytSFj2N"
      }
    },
    {
      "cell_type": "markdown",
      "source": [
        "These metrics (precision, recall, and F1-score) provide a deeper view of model performance by highlighting how well it identifies survivors versus non-survivors, which accuracy alone cannot show in imbalanced data."
      ],
      "metadata": {
        "id": "add4-ef3FjkV"
      }
    },
    {
      "cell_type": "markdown",
      "source": [
        "# 4. ROC Curve and AUC Analysis for Decision Trees\n"
      ],
      "metadata": {
        "id": "0K_GHVYIF5Ns"
      }
    },
    {
      "cell_type": "code",
      "source": [
        "from sklearn.tree import DecisionTreeClassifier\n",
        "from sklearn.metrics import roc_curve, roc_auc_score\n",
        "import matplotlib.pyplot as plt\n",
        "\n",
        "# Train model\n",
        "dt_model = DecisionTreeClassifier(max_depth=5, random_state=42)\n",
        "dt_model.fit(X_train, y_train)\n",
        "\n",
        "# Predicted probabilities for positive class (Survived = 1)\n",
        "y_probs = dt_model.predict_proba(X_test)[:, 1]\n",
        "\n",
        "# ROC Curve\n",
        "fpr, tpr, thresholds = roc_curve(y_test, y_probs)\n",
        "\n",
        "plt.plot(fpr, tpr, label=\"Decision Tree\")\n",
        "plt.plot([0,1], [0,1], 'k--', label=\"Random Guess\")\n",
        "plt.xlabel(\"False Positive Rate\")\n",
        "plt.ylabel(\"True Positive Rate (Recall)\")\n",
        "plt.title(\"ROC Curve - Decision Tree\")\n",
        "plt.legend()\n",
        "plt.show()\n",
        "\n",
        "# AUC\n",
        "auc = roc_auc_score(y_test, y_probs)\n",
        "print(\"AUC:\", auc)\n"
      ],
      "metadata": {
        "colab": {
          "base_uri": "https://localhost:8080/",
          "height": 489
        },
        "id": "OFEfg8KOFrSO",
        "outputId": "b267170b-202e-43f0-c040-f3397082660d"
      },
      "execution_count": 18,
      "outputs": [
        {
          "output_type": "display_data",
          "data": {
            "text/plain": [
              "<Figure size 640x480 with 1 Axes>"
            ],
            "image/png": "[encoded data removed]"
          },
          "metadata": {}
        },
        {
          "output_type": "stream",
          "name": "stdout",
          "text": [
            "AUC: 0.75\n"
          ]
        }
      ]
    },
    {
      "cell_type": "markdown",
      "source": [
        "## Insights\n"
      ],
      "metadata": {
        "id": "bezyvYZkHBV1"
      }
    },
    {
      "cell_type": "markdown",
      "source": [
        "ROC curve and AUC give a clearer measure of how well the model separates survivors from non-survivors beyond accuracy."
      ],
      "metadata": {
        "id": "xPfbCnOGG_qd"
      }
    },
    {
      "cell_type": "markdown",
      "source": [
        "# 5. Comparing Model Performance with and without Cross-Validation\n"
      ],
      "metadata": {
        "id": "vkceLqlfHiBN"
      }
    },
    {
      "cell_type": "code",
      "source": [
        "from sklearn.model_selection import cross_val_score\n",
        "import numpy as np\n",
        "\n",
        "def cv_evaluate(model, X, y, model_name):\n",
        "    acc = cross_val_score(model, X, y, cv=5, scoring='accuracy')\n",
        "    prec = cross_val_score(model, X, y, cv=5, scoring='precision')\n",
        "    rec = cross_val_score(model, X, y, cv=5, scoring='recall')\n",
        "\n",
        "    print(f\"{model_name} (CV) - Accuracy: {np.mean(acc):.3f}, \"\n",
        "          f\"Precision: {np.mean(prec):.3f}, \"\n",
        "          f\"Recall: {np.mean(rec):.3f}\")\n",
        "\n",
        "cv_evaluate(LogisticRegression(max_iter=1000), X, y, \"Logistic Regression\")\n",
        "cv_evaluate(DecisionTreeClassifier(max_depth=5, random_state=42), X, y, \"Decision Tree\")\n"
      ],
      "metadata": {
        "colab": {
          "base_uri": "https://localhost:8080/"
        },
        "id": "sv0mDeL4HZNW",
        "outputId": "758c3e4f-189b-4757-8c99-fda4f214135f"
      },
      "execution_count": 20,
      "outputs": [
        {
          "output_type": "stream",
          "name": "stdout",
          "text": [
            "Logistic Regression (CV) - Accuracy: 0.788, Precision: 0.762, Recall: 0.698\n",
            "Decision Tree (CV) - Accuracy: 0.801, Precision: 0.814, Recall: 0.666\n"
          ]
        }
      ]
    },
    {
      "cell_type": "code",
      "source": [
        "from sklearn.model_selection import cross_val_score\n",
        "import numpy as np\n",
        "\n",
        "def cv_evaluate(model, X, y, model_name):\n",
        "    acc = cross_val_score(model, X, y, cv=5, scoring='accuracy')\n",
        "    prec = cross_val_score(model, X, y, cv=5, scoring='precision')\n",
        "    rec = cross_val_score(model, X, y, cv=5, scoring='recall')\n",
        "\n",
        "    print(f\"{model_name} (CV) - Accuracy: {np.mean(acc):.3f}, \"\n",
        "          f\"Precision: {np.mean(prec):.3f}, \"\n",
        "          f\"Recall: {np.mean(rec):.3f}\")\n",
        "\n",
        "cv_evaluate(LogisticRegression(max_iter=1000), X, y, \"Logistic Regression\")\n",
        "cv_evaluate(DecisionTreeClassifier(max_depth=5, random_state=42), X, y, \"Decision Tree\")\n"
      ],
      "metadata": {
        "colab": {
          "base_uri": "https://localhost:8080/"
        },
        "id": "mwRu-4-VF3H4",
        "outputId": "39b2891c-bd6c-47e0-c6b0-3d49d98a680b"
      },
      "execution_count": 21,
      "outputs": [
        {
          "output_type": "stream",
          "name": "stdout",
          "text": [
            "Logistic Regression (CV) - Accuracy: 0.788, Precision: 0.762, Recall: 0.698\n",
            "Decision Tree (CV) - Accuracy: 0.801, Precision: 0.814, Recall: 0.666\n"
          ]
        }
      ]
    },
    {
      "cell_type": "markdown",
      "source": [
        "## Insights\n"
      ],
      "metadata": {
        "id": "dRPsVhlsH7He"
      }
    },
    {
      "cell_type": "markdown",
      "source": [
        "Cross-validation reduces variance in evaluation by testing the model on multiple folds, giving a more reliable and generalizable estimate of real-world performance than a single train-test split."
      ],
      "metadata": {
        "id": "Wrop5bDIH69V"
      }
    },
    {
      "cell_type": "markdown",
      "source": [
        "# 6. Applying Cross-Validation to Random Forest Classifier\n"
      ],
      "metadata": {
        "id": "a4zrVMokIEbN"
      }
    },
    {
      "cell_type": "code",
      "source": [
        "from sklearn.ensemble import RandomForestClassifier\n",
        "from sklearn.model_selection import cross_val_score\n",
        "import numpy as np\n",
        "\n",
        "# Random Forest model\n",
        "rf_model = RandomForestClassifier(n_estimators=100, max_depth=5, random_state=42)\n",
        "\n",
        "# Cross-validation (5-fold)\n",
        "acc_scores = cross_val_score(rf_model, X, y, cv=5, scoring='accuracy')\n",
        "prec_scores = cross_val_score(rf_model, X, y, cv=5, scoring='precision')\n",
        "rec_scores = cross_val_score(rf_model, X, y, cv=5, scoring='recall')\n",
        "\n",
        "print(\"Random Forest (CV Accuracy):\", acc_scores)\n",
        "print(\"Mean Accuracy:\", np.mean(acc_scores))\n",
        "print(\"Mean Precision:\", np.mean(prec_scores))\n",
        "print(\"Mean Recall:\", np.mean(rec_scores))\n"
      ],
      "metadata": {
        "colab": {
          "base_uri": "https://localhost:8080/"
        },
        "id": "xmqAjenRIDCJ",
        "outputId": "a948126b-3ca6-486c-9de0-614326578235"
      },
      "execution_count": 24,
      "outputs": [
        {
          "output_type": "stream",
          "name": "stdout",
          "text": [
            "Random Forest (CV Accuracy): [0.72727273 0.82517483 0.80985915 0.78873239 0.86619718]\n",
            "Mean Accuracy: 0.8034472569683837\n",
            "Mean Precision: 0.8346791546634668\n",
            "Mean Recall: 0.6491228070175439\n"
          ]
        }
      ]
    },
    {
      "cell_type": "markdown",
      "source": [
        "Ensemble methods like Random Forest achieve higher mean accuracy with more stable cross-validation scores, reducing variance and improving robustness compared to single models.\n"
      ],
      "metadata": {
        "id": "G5n9D5rKIfyl"
      }
    },
    {
      "cell_type": "markdown",
      "source": [
        "# 7. Investigating Overfitting and Underfitting in Gradient Boosting Machines\n"
      ],
      "metadata": {
        "id": "aaiKF-qnIyYP"
      }
    },
    {
      "cell_type": "code",
      "source": [
        "from sklearn.ensemble import GradientBoostingClassifier\n",
        "from sklearn.model_selection import train_test_split\n",
        "from sklearn.metrics import accuracy_score\n",
        "\n",
        "# Train-test split\n",
        "X_train, X_val, y_train, y_val = train_test_split(X, y, test_size=0.2, random_state=42)\n",
        "\n",
        "# Different parameter settings\n",
        "settings = [\n",
        "    {\"n_estimators\": 50, \"learning_rate\": 0.1},\n",
        "    {\"n_estimators\": 200, \"learning_rate\": 0.1},\n",
        "    {\"n_estimators\": 200, \"learning_rate\": 0.05},\n",
        "    {\"n_estimators\": 500, \"learning_rate\": 0.01}\n",
        "]\n",
        "\n",
        "for params in settings:\n",
        "    model = GradientBoostingClassifier(**params, random_state=42)\n",
        "    model.fit(X_train, y_train)\n",
        "\n",
        "    train_acc = accuracy_score(y_train, model.predict(X_train))\n",
        "    val_acc = accuracy_score(y_val, model.predict(X_val))\n",
        "\n",
        "    print(f\"n_estimators={params['n_estimators']}, learning_rate={params['learning_rate']}\")\n",
        "    print(f\"  Train Accuracy: {train_acc:.3f}, Validation Accuracy: {val_acc:.3f}\\n\")\n"
      ],
      "metadata": {
        "colab": {
          "base_uri": "https://localhost:8080/"
        },
        "id": "2JyXfedqIOKp",
        "outputId": "7624eb07-01b7-4f83-9bf4-ffcab0b77254"
      },
      "execution_count": 25,
      "outputs": [
        {
          "output_type": "stream",
          "name": "stdout",
          "text": [
            "n_estimators=50, learning_rate=0.1\n",
            "  Train Accuracy: 0.900, Validation Accuracy: 0.755\n",
            "\n",
            "n_estimators=200, learning_rate=0.1\n",
            "  Train Accuracy: 0.947, Validation Accuracy: 0.783\n",
            "\n",
            "n_estimators=200, learning_rate=0.05\n",
            "  Train Accuracy: 0.923, Validation Accuracy: 0.769\n",
            "\n",
            "n_estimators=500, learning_rate=0.01\n",
            "  Train Accuracy: 0.891, Validation Accuracy: 0.769\n",
            "\n"
          ]
        }
      ]
    },
    {
      "cell_type": "markdown",
      "source": [
        "Boosting parameters like learning rate and number of estimators control the balance between underfitting and overfitting, shaping how well the model generalizes to unseen data."
      ],
      "metadata": {
        "id": "f8qDOFYIJIRH"
      }
    },
    {
      "cell_type": "markdown",
      "source": [
        "# 8. Evaluating Precision, Recall, and F1-Score for Random Forests"
      ],
      "metadata": {
        "id": "PJcvOTwCJOuV"
      }
    },
    {
      "cell_type": "code",
      "source": [
        "from sklearn.ensemble import RandomForestClassifier\n",
        "from sklearn.metrics import precision_score, recall_score, f1_score, accuracy_score\n",
        "\n",
        "# Train Random Forest\n",
        "rf_model = RandomForestClassifier(n_estimators=100, max_depth=5, random_state=42)\n",
        "rf_model.fit(X_train, y_train)\n",
        "\n",
        "y_pred_rf = rf_model.predict(X_test)\n",
        "\n",
        "# Metrics\n",
        "accuracy = accuracy_score(y_test, y_pred_rf)\n",
        "precision = precision_score(y_test, y_pred_rf)\n",
        "recall = recall_score(y_test, y_pred_rf)\n",
        "f1 = f1_score(y_test, y_pred_rf)\n",
        "\n",
        "print(\"Random Forest Performance:\")\n",
        "print(f\"Accuracy: {accuracy:.3f}\")\n",
        "print(f\"Precision: {precision:.3f}\")\n",
        "print(f\"Recall: {recall:.3f}\")\n",
        "print(f\"F1-Score: {f1:.3f}\")\n",
        "\n"
      ],
      "metadata": {
        "colab": {
          "base_uri": "https://localhost:8080/"
        },
        "id": "DdN5YpmjI7gU",
        "outputId": "6683ecc5-5e6a-4b89-9ac3-546f6b1a7093"
      },
      "execution_count": 27,
      "outputs": [
        {
          "output_type": "stream",
          "name": "stdout",
          "text": [
            "Random Forest Performance:\n",
            "Accuracy: 0.797\n",
            "Precision: 0.870\n",
            "Recall: 0.635\n",
            "F1-Score: 0.734\n"
          ]
        }
      ]
    },
    {
      "cell_type": "markdown",
      "source": [
        "Boosting models should be evaluated with threshold-independent metrics like ROC-AUC to capture their true ability to separate classes beyond fixed precision or recall values."
      ],
      "metadata": {
        "id": "ItuGm2cJJZil"
      }
    },
    {
      "cell_type": "markdown",
      "source": [
        "# 9. ROC Curve and AUC for Gradient Boosting Classifier\n"
      ],
      "metadata": {
        "id": "s8FKXRz2Jedd"
      }
    },
    {
      "cell_type": "code",
      "source": [
        "from sklearn.ensemble import GradientBoostingClassifier\n",
        "from sklearn.metrics import roc_curve, roc_auc_score\n",
        "import matplotlib.pyplot as plt\n",
        "\n",
        "# Train model\n",
        "gb_model = GradientBoostingClassifier(n_estimators=200, learning_rate=0.1, random_state=42)\n",
        "gb_model.fit(X_train, y_train)\n",
        "\n",
        "# Predicted probabilities for positive class (Survived = 1)\n",
        "y_probs = gb_model.predict_proba(X_test)[:, 1]\n",
        "\n",
        "# ROC Curve\n",
        "fpr, tpr, thresholds = roc_curve(y_test, y_probs)\n",
        "\n",
        "plt.plot(fpr, tpr, label=\"Gradient Boosting\")\n",
        "plt.plot([0,1], [0,1], 'k--', label=\"Random Guess\")\n",
        "plt.xlabel(\"False Positive Rate\")\n",
        "plt.ylabel(\"True Positive Rate (Recall)\")\n",
        "plt.title(\"ROC Curve - Gradient Boosting\")\n",
        "plt.legend()\n",
        "plt.show()\n",
        "\n",
        "# AUC Score\n",
        "auc = roc_auc_score(y_test, y_probs)\n",
        "print(\"AUC:\", auc)\n"
      ],
      "metadata": {
        "colab": {
          "base_uri": "https://localhost:8080/",
          "height": 489
        },
        "id": "5-khzQ8HJNpo",
        "outputId": "99f00964-37a3-4f27-ac65-b87b4f4fb250"
      },
      "execution_count": 28,
      "outputs": [
        {
          "output_type": "display_data",
          "data": {
            "text/plain": [
              "<Figure size 640x480 with 1 Axes>"
            ],
            "image/png": "[encoded data removed]"
          },
          "metadata": {}
        },
        {
          "output_type": "stream",
          "name": "stdout",
          "text": [
            "AUC: 0.8089285714285714\n"
          ]
        }
      ]
    },
    {
      "cell_type": "markdown",
      "source": [
        "Gradient Boosting achieved an AUC of 0.809, showing it separates survivors from non-survivors well, and highlighting the value of threshold-independent metrics for reliable evaluation."
      ],
      "metadata": {
        "id": "9WoWl0chJ_Ne"
      }
    },
    {
      "cell_type": "markdown",
      "source": [
        "# 10. Model Performance Comparison with Different Metrics\n"
      ],
      "metadata": {
        "id": "6tNKPJQEKA3I"
      }
    },
    {
      "cell_type": "code",
      "source": [
        "from sklearn.svm import SVC\n",
        "from sklearn.ensemble import RandomForestClassifier, GradientBoostingClassifier\n",
        "from sklearn.model_selection import cross_val_score\n",
        "import numpy as np\n",
        "\n",
        "# Models\n",
        "models = {\n",
        "    \"SVM\": SVC(probability=True, kernel=\"rbf\", random_state=42),\n",
        "    \"Random Forest\": RandomForestClassifier(n_estimators=100, max_depth=5, random_state=42),\n",
        "    \"Gradient Boosting\": GradientBoostingClassifier(n_estimators=200, learning_rate=0.1, random_state=42)\n",
        "}\n",
        "\n",
        "# Evaluation function\n",
        "def evaluate_model(name, model, X, y):\n",
        "    metrics = {}\n",
        "    metrics[\"Accuracy\"] = cross_val_score(model, X, y, cv=5, scoring=\"accuracy\").mean()\n",
        "    metrics[\"Precision\"] = cross_val_score(model, X, y, cv=5, scoring=\"precision\").mean()\n",
        "    metrics[\"Recall\"] = cross_val_score(model, X, y, cv=5, scoring=\"recall\").mean()\n",
        "    metrics[\"F1\"] = cross_val_score(model, X, y, cv=5, scoring=\"f1\").mean()\n",
        "    metrics[\"ROC-AUC\"] = cross_val_score(model, X, y, cv=5, scoring=\"roc_auc\").mean()\n",
        "    return metrics\n",
        "\n",
        "results = {}\n",
        "for name, model in models.items():\n",
        "    results[name] = evaluate_model(name, model, X, y)\n",
        "\n",
        "# Show results\n",
        "import pandas as pd\n",
        "df_results = pd.DataFrame(results).T\n",
        "print(df_results)\n"
      ],
      "metadata": {
        "colab": {
          "base_uri": "https://localhost:8080/"
        },
        "id": "iHxTJ3FyJ5GI",
        "outputId": "459427e3-2353-4833-8d75-287b280fb990"
      },
      "execution_count": 29,
      "outputs": [
        {
          "output_type": "stream",
          "name": "stdout",
          "text": [
            "                   Accuracy  Precision    Recall        F1   ROC-AUC\n",
            "SVM                0.670019   0.698407  0.329885  0.445902  0.722646\n",
            "Random Forest      0.803447   0.834679  0.649123  0.724308  0.862386\n",
            "Gradient Boosting  0.821688   0.819627  0.722142  0.764324  0.867767\n"
          ]
        }
      ]
    },
    {
      "cell_type": "markdown",
      "source": [
        "By comparing accuracy, precision, recall, F1, and ROC-AUC, Gradient Boosting emerges as the best-performing model overall, offering the most balanced performance across metrics."
      ],
      "metadata": {
        "id": "2MYfMgarLTgW"
      }
    },
    {
      "cell_type": "code",
      "source": [],
      "metadata": {
        "id": "OWyON_zRKJIL"
      },
      "execution_count": null,
      "outputs": []
    }
  ]
}